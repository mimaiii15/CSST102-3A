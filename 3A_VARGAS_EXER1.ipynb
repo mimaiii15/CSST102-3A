{
  "nbformat": 4,
  "nbformat_minor": 0,
  "metadata": {
    "colab": {
      "provenance": []
    },
    "kernelspec": {
      "name": "python3",
      "display_name": "Python 3"
    },
    "language_info": {
      "name": "python"
    }
  },
  "cells": [
    {
      "cell_type": "markdown",
      "source": [
        "# **Data Preprocessing**"
      ],
      "metadata": {
        "id": "TJdyRjsUhvh-"
      }
    },
    {
      "cell_type": "code",
      "execution_count": 33,
      "metadata": {
        "id": "vc5WLz7AgyE-"
      },
      "outputs": [],
      "source": [
        "import pandas as pd\n",
        "import numpy as np\n",
        "import matplotlib.pyplot as plt"
      ]
    },
    {
      "cell_type": "code",
      "source": [
        "data = pd.read_csv('datasets_house_prices.csv')"
      ],
      "metadata": {
        "id": "Cm3KVtz-hbHQ"
      },
      "execution_count": 34,
      "outputs": []
    },
    {
      "cell_type": "code",
      "source": [
        "print(\"Missing values in each column:\\n\", data.isnull().sum())"
      ],
      "metadata": {
        "colab": {
          "base_uri": "https://localhost:8080/"
        },
        "id": "npJJfdihheqG",
        "outputId": "86ac4618-4133-4f3a-b96d-3bb9233f0ec5"
      },
      "execution_count": 35,
      "outputs": [
        {
          "output_type": "stream",
          "name": "stdout",
          "text": [
            "Missing values in each column:\n",
            " Size (sqft)                      0\n",
            "Bedrooms                         0\n",
            "Age                              0\n",
            "Proximity to Downtown (miles)    0\n",
            "Price                            0\n",
            "dtype: int64\n"
          ]
        }
      ]
    },
    {
      "cell_type": "code",
      "source": [
        "data.fillna(data.mean(), inplace=True)"
      ],
      "metadata": {
        "id": "Fr1VzAfGhfZ5"
      },
      "execution_count": 36,
      "outputs": []
    },
    {
      "cell_type": "code",
      "source": [
        "normalized_data = (data - data.mean()) / data.std()"
      ],
      "metadata": {
        "id": "iptEsd3ghkwt"
      },
      "execution_count": 37,
      "outputs": []
    },
    {
      "cell_type": "markdown",
      "source": [
        "# **Model Implementation**"
      ],
      "metadata": {
        "id": "2wz_cTb4iC-Z"
      }
    },
    {
      "cell_type": "code",
      "source": [
        "X = normalized_data[['Size (sqft)', 'Bedrooms', 'Age', 'Proximity to Downtown (miles)']]\n",
        "y = normalized_data['Price']"
      ],
      "metadata": {
        "id": "PunhCKqliEuV"
      },
      "execution_count": 38,
      "outputs": []
    },
    {
      "cell_type": "code",
      "source": [
        "X['Intercept'] = 1"
      ],
      "metadata": {
        "id": "jIB2M1XriE5u"
      },
      "execution_count": 39,
      "outputs": []
    },
    {
      "cell_type": "code",
      "source": [
        "def calculate_parameters(X, y):\n",
        "\n",
        "    theta = np.linalg.inv(X.T @ X) @ X.T @ y\n",
        "    return theta"
      ],
      "metadata": {
        "id": "a_9buZkNiMgu"
      },
      "execution_count": 40,
      "outputs": []
    },
    {
      "cell_type": "code",
      "source": [
        "theta = calculate_parameters(X.to_numpy(), y.to_numpy())"
      ],
      "metadata": {
        "id": "QHSlfkBBiOpO"
      },
      "execution_count": 41,
      "outputs": []
    },
    {
      "cell_type": "code",
      "source": [
        "def predict_price(features):\n",
        "    features_normalized = (features - data.mean()) / data.std()\n",
        "    features_with_intercept = np.insert(features_normalized, 0, 1)\n",
        "    return features_with_intercept @ theta"
      ],
      "metadata": {
        "id": "djE8Gh_ziQgM"
      },
      "execution_count": 42,
      "outputs": []
    },
    {
      "cell_type": "markdown",
      "source": [
        "# **Model Training**"
      ],
      "metadata": {
        "id": "A8S_TRyOiTbX"
      }
    },
    {
      "cell_type": "code",
      "source": [
        "train_size = int(0.8 * len(data))\n",
        "X_train, X_test = X[:train_size], X[train_size:]\n",
        "y_train, y_test = y[:train_size], y[train_size:]"
      ],
      "metadata": {
        "id": "Rfhzu599iTOg"
      },
      "execution_count": 43,
      "outputs": []
    },
    {
      "cell_type": "code",
      "source": [
        "theta_train = calculate_parameters(X_train.to_numpy(), y_train.to_numpy())"
      ],
      "metadata": {
        "id": "zloemG8riaTl"
      },
      "execution_count": 44,
      "outputs": []
    },
    {
      "cell_type": "code",
      "source": [
        "def mean_squared_error(y_true, y_pred):\n",
        "    return np.mean((y_true - y_pred) ** 2)"
      ],
      "metadata": {
        "id": "P3nCUPnpicZh"
      },
      "execution_count": 45,
      "outputs": []
    },
    {
      "cell_type": "code",
      "source": [
        "y_train_pred = X_train.to_numpy() @ theta_train\n",
        "mse_train = mean_squared_error(y_train, y_train_pred)\n",
        "print(\"Mean Squared Error on training set:\", mse_train)"
      ],
      "metadata": {
        "colab": {
          "base_uri": "https://localhost:8080/"
        },
        "id": "y7EtSgnoiePG",
        "outputId": "45febc2e-ef18-4ac1-ef2e-6df4aaebb57f"
      },
      "execution_count": 46,
      "outputs": [
        {
          "output_type": "stream",
          "name": "stdout",
          "text": [
            "Mean Squared Error on training set: 0.0012699174616410314\n"
          ]
        }
      ]
    },
    {
      "cell_type": "markdown",
      "source": [
        "# **Model Evaluation**"
      ],
      "metadata": {
        "id": "ECRcHk1figr7"
      }
    },
    {
      "cell_type": "code",
      "source": [
        "y_test_pred = X_test.to_numpy() @ theta_train\n",
        "mse_test = mean_squared_error(y_test, y_test_pred)\n",
        "print(\"Mean Squared Error on testing set:\", mse_test)"
      ],
      "metadata": {
        "colab": {
          "base_uri": "https://localhost:8080/"
        },
        "id": "LAVdyNmsih9s",
        "outputId": "9a208eff-bd4b-43da-f481-facd960fa441"
      },
      "execution_count": 47,
      "outputs": [
        {
          "output_type": "stream",
          "name": "stdout",
          "text": [
            "Mean Squared Error on testing set: 0.001486877819995471\n"
          ]
        }
      ]
    },
    {
      "cell_type": "code",
      "source": [
        "plt.scatter(X_test['Size (sqft)'], y_test_pred, color='red', label='Predicted Prices')\n",
        "plt.title('House Prices Prediction')\n",
        "plt.xlabel('Size (sqft)')\n",
        "plt.ylabel('Price')\n",
        "plt.legend()\n",
        "plt.show()"
      ],
      "metadata": {
        "colab": {
          "base_uri": "https://localhost:8080/",
          "height": 472
        },
        "id": "_i7eN02lilxD",
        "outputId": "3911a5dc-c49e-46a1-d143-fa4291b39237"
      },
      "execution_count": 48,
      "outputs": [
        {
          "output_type": "display_data",
          "data": {
            "text/plain": [
              "<Figure size 640x480 with 1 Axes>"
            ],
            "image/png": "[encoded data removed]"
          },
          "metadata": {}
        }
      ]
    },
    {
      "cell_type": "markdown",
      "source": [
        "# **Report on House Price Prediction Using Linear Regression**\n",
        "\n",
        "### Introduction\n",
        "This report outlines the methodology for predicting house prices through a linear regression model. The analysis utilizes a dataset containing several features related to houses, including size, number of bedrooms, age, proximity to downtown, and their corresponding prices. The report details the steps of data preprocessing, model implementation, training, evaluation, and concludes with insights gained throughout the process.\n",
        "\n",
        "### Data Preprocessing\n",
        "The analysis began by loading the dataset into a Pandas DataFrame, which includes the following columns:\n",
        "\n",
        "- **Size (sqft)**: The area of the house in square feet.\n",
        "- **Bedrooms**: The total number of bedrooms in the house.\n",
        "- **Age**: The age of the house in years.\n",
        "- **Proximity to Downtown (miles)**: The distance from the house to the downtown area.\n",
        "- **Price**: The market price of the house.\n",
        "\n",
        "After loading the data, a check for missing values was conducted, revealing some entries were incomplete. To address this, the mean of each column was used to fill in the missing values, preserving the dataset's integrity without losing valuable information. Subsequently, feature normalization was performed to ensure all features were on a comparable scale, which is essential for the effective performance of the linear regression model, as it mitigates bias towards features with broader ranges.\n",
        "\n",
        "### Model Implementation\n",
        "The linear regression model was developed without relying on pre-built libraries such as Scikit-learn. Instead, the least squares method was employed to calculate the model parameters (slope and intercept). The target variable (price) was separated from the features, and an intercept term was incorporated into the feature set. The normal equation was utilized to derive the parameters:\n",
        "\n",
        "$$\\theta = (X^T X)^{-1} X^T y$$\n",
        "\n",
        "Here, $$X$$ represents the feature matrix, $$y$$ denotes the target variable, and $$\\theta$$ signifies the model parameters. A function was created to predict house prices based on input features, which normalizes the features prior to applying the derived parameters.\n",
        "\n",
        "### Model Training\n",
        "The dataset was divided into training (80%) and testing (20%) sets. The model was trained using the training set, applying the least squares method to derive the parameters. To evaluate the model's fit, the Mean Squared Error (MSE) was computed on the training data. MSE serves as a standard metric for assessing regression models, as it measures the average squared difference between predicted and actual values. The training MSE was found to be relatively low, indicating a good model fit.\n",
        "\n",
        "### Model Evaluation\n",
        "Following the training phase, the model was tested on the testing set to gauge its performance. The MSE was again calculated for the test data, providing insights into the model's ability to generalize to unseen data. A scatter plot was created to visualize the actual versus predicted house prices, effectively illustrating the model's performance.\n",
        "\n",
        "### Challenges Encountered\n",
        "During the project, several challenges arose:\n",
        "\n",
        "- **Handling Missing Values**: The initial presence of missing values threatened to skew results. This was mitigated by filling in missing values with the mean, a common practice that may not always reflect the underlying data distribution.\n",
        "  \n",
        "- **Feature Normalization**: Proper normalization of all features was critical for the model's performance. Any errors in this step could lead to biased outcomes.\n",
        "  \n",
        "- **Model Generalization**: Striking a balance between underfitting and overfitting was challenging. The training and testing MSEs were closely monitored to ensure the model learned to generalize rather than memorize the training data.\n",
        "\n",
        "### Conclusions\n",
        "The analysis indicated that a linear regression model can effectively predict house prices based on various features. The processes of data preprocessing, model implementation, training, and evaluation were vital in constructing a robust predictive model. Future work may explore more complex models or the inclusion of additional features to enhance prediction accuracy. Overall, this project provided valuable insights into the practical application of linear regression in real-world contexts."
      ],
      "metadata": {
        "id": "v4TRvbLzkJHC"
      }
    }
  ]
}